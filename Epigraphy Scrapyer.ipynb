{
 "cells": [
  {
   "cell_type": "code",
   "execution_count": 51,
   "metadata": {},
   "outputs": [
    {
     "data": {
      "application/vnd.jupyter.widget-view+json": {
       "model_id": "f0712a5c90294a0cadafddf77146498a",
       "version_major": 2,
       "version_minor": 0
      },
      "text/plain": [
       "Text(value='', description='EDCS-ID:')"
      ]
     },
     "metadata": {},
     "output_type": "display_data"
    },
    {
     "data": {
      "application/vnd.jupyter.widget-view+json": {
       "model_id": "2fe69cc2888b4638ad850581f58ea1f9",
       "version_major": 2,
       "version_minor": 0
      },
      "text/plain": [
       "Text(value='', description='Publication:')"
      ]
     },
     "metadata": {},
     "output_type": "display_data"
    },
    {
     "data": {
      "application/vnd.jupyter.widget-view+json": {
       "model_id": "2fe69cc2888b4638ad850581f58ea1f9",
       "version_major": 2,
       "version_minor": 0
      },
      "text/plain": [
       "Text(value='', description='Publication:')"
      ]
     },
     "metadata": {},
     "output_type": "display_data"
    },
    {
     "name": "stdout",
     "output_type": "stream",
     "text": [
      "Shift/Ctrl click to select multiple\n"
     ]
    },
    {
     "data": {
      "application/vnd.jupyter.widget-view+json": {
       "model_id": "22cd74b1ff974a28b1d356802664023a",
       "version_major": 2,
       "version_minor": 0
      },
      "text/plain": [
       "SelectMultiple(description='Province:', options=(None, 'Achaia', 'Baetica', 'Barbaricum', 'Belgica', 'Britanni…"
      ]
     },
     "metadata": {},
     "output_type": "display_data"
    },
    {
     "data": {
      "application/vnd.jupyter.widget-view+json": {
       "model_id": "1e12a862eafd44f09b970310d1519b1e",
       "version_major": 2,
       "version_minor": 0
      },
      "text/plain": [
       "Text(value='', description='Place:')"
      ]
     },
     "metadata": {},
     "output_type": "display_data"
    },
    {
     "data": {
      "application/vnd.jupyter.widget-view+json": {
       "model_id": "2908dcc90e574c0a9b1bf68cb5fbb238",
       "version_major": 2,
       "version_minor": 0
      },
      "text/plain": [
       "Text(value='', description='Text 1:')"
      ]
     },
     "metadata": {},
     "output_type": "display_data"
    },
    {
     "data": {
      "application/vnd.jupyter.widget-view+json": {
       "model_id": "941bd6d1a2414d03b08a52aa3391db4d",
       "version_major": 2,
       "version_minor": 0
      },
      "text/plain": [
       "ToggleButtons(description='Operator', options=('and', 'or', 'not'), value='and')"
      ]
     },
     "metadata": {},
     "output_type": "display_data"
    },
    {
     "data": {
      "application/vnd.jupyter.widget-view+json": {
       "model_id": "af051d80ec17435ab77a63aa636fdd8a",
       "version_major": 2,
       "version_minor": 0
      },
      "text/plain": [
       "Text(value='', description='Text 2:')"
      ]
     },
     "metadata": {},
     "output_type": "display_data"
    },
    {
     "data": {
      "application/vnd.jupyter.widget-view+json": {
       "model_id": "f21d1d89ff9644ebbfb3ddcfecdaa418",
       "version_major": 2,
       "version_minor": 0
      },
      "text/plain": [
       "Text(value='', description='dating from:')"
      ]
     },
     "metadata": {},
     "output_type": "display_data"
    },
    {
     "data": {
      "application/vnd.jupyter.widget-view+json": {
       "model_id": "8ef2b03c3a684ad5bea206c74098bf34",
       "version_major": 2,
       "version_minor": 0
      },
      "text/plain": [
       "Text(value='', description='dating to:')"
      ]
     },
     "metadata": {},
     "output_type": "display_data"
    },
    {
     "data": {
      "application/vnd.jupyter.widget-view+json": {
       "model_id": "27484a738ee94d4faf4d5346f6260957",
       "version_major": 2,
       "version_minor": 0
      },
      "text/plain": [
       "SelectMultiple(description='inscription genus / personal status:', options=(None, 'et', 'vel', 'carmina', 'sig…"
      ]
     },
     "metadata": {},
     "output_type": "display_data"
    },
    {
     "data": {
      "application/vnd.jupyter.widget-view+json": {
       "model_id": "6361877e4d30452fab8d6b01d38a27db",
       "version_major": 2,
       "version_minor": 0
      },
      "text/plain": [
       "SelectMultiple(description='and not:', options=(None, 'et', 'vel', 'carmina', 'sigilla impressa', 'Augusti/Aug…"
      ]
     },
     "metadata": {},
     "output_type": "display_data"
    },
    {
     "data": {
      "application/vnd.jupyter.widget-view+json": {
       "model_id": "989e8b82db904cb188365613aee23c5d",
       "version_major": 2,
       "version_minor": 0
      },
      "text/plain": [
       "Button(description='ScraPYe!', style=ButtonStyle())"
      ]
     },
     "metadata": {},
     "output_type": "display_data"
    }
   ],
   "source": [
    "#!/usr/bin/env python3\n",
    "# http://db.edcs.eu/epigr/epi.php?s_sprache=en\n",
    "\n",
    "#EDCS-32300443\n",
    "#tumulus?\n",
    "import parse \n",
    "from ipywidgets import interact, interactive, fixed, interact_manual\n",
    "import ipywidgets as widgets\n",
    "from IPython.core.display import display, HTML\n",
    "\n",
    "class Parseargs:\n",
    "    \n",
    "    EDCS = None\n",
    "    publication = None\n",
    "    province = []\n",
    "    provincelist = [None, \"Achaia\", \"Baetica\", \"Barbaricum\", \"Belgica\", \"Britannia\", \"Bruttium et Lucania / Regio III\", \"Cilicia\", \"Corsica\", \"Creta et Cyrenaica\", \"Cyprus\", \"Dacia\", \"Dalmatia\", \"Etruria / Regio VII\", \"Galatia\", \"Gallia Narbonensis\", \"Germania inferior\", \"Germania superior\", \"Hispania citerior\", \"Italia\", \"Latium et Campania / Regio I\", \"Liguria / Regio IX\", \"Lugudunensis\", \"Lusitania\", \"Lycia et Pamphylia\", \"Macedonia\", \"Mauretania Caesariensis\", \"Mauretania Tingitana\", \"Mesopotamia\", \"Moesia inferior\", \"Moesia superior\", \"Noricum\", \"Numidia\", \"Palaestina\", \"Pannonia inferior\", \"Pannonia superior\", \"Picenum / Regio V\", \"Pontus et Bithynia Armenia\", \"Provincia incerta Asia\", \"Raetia\"\"Regnum Bospori Aegyptus\", \"Roma Aemilia / Regio VIII\", \"Samnium / Regio IV Africa proconsularis\", \"Sardinia Alpes Cottiae\", \"Sicilia Alpes Graiae\",\"Cappadocia\", \"Syria Alpes Maritimae\", \"Thracia Alpes Poeninae\", \"Transpadana / Regio XI Apulia et Calabria / Regio II\", \"Umbria / Regio VI Aquitani(c)a\", \"Venetia et Histria / Regio X Arabia\", ]\n",
    "    place = None\n",
    "    term1 = None\n",
    "    operator = \"and\"\n",
    "    operatorlist = [\"and\", \"or\", \"not\"]\n",
    "    term2 = None\n",
    "    dating_from = None\n",
    "    dating_to = None\n",
    "    inscription_genus = []\n",
    "    and_not_inscription_genus = []\n",
    "    debug = False\n",
    "    from_file = None\n",
    "    to_file = None\n",
    "    genus_list = [None, \"et\", \"vel\", \"carmina\", \"sigilla impressa\", \"Augusti/Augustae\", \"praenomen et nomen defixiones\", \"signacula medicorum\", \"liberti/libertae\", \"reges diplomata militaria\", \"termini\", \"milites\", \"sacerdotes christiani inscriptiones christianae\", \"tituli fabricationis\", \"mulieres\", \"sacerdotes pagani leges\", \"tituli honorarii\", \"nomen singulare\", \"servi/servae litterae erasae\", \"tituli operum\", \"officium/professio\", \"seviri Augustales litterae in litura\", \"tituli possessionis\", \"ordo decurionum\", \"tria nomina miliaria\", \"tituli sacri\", \"ordo equester\", \"viri senatus consulta\", \"tituli sepulcrales\", \"ordo senatorius\"]\n",
    "\n",
    "\n",
    "args = Parseargs()\n",
    "    \n",
    "EDCS=widgets.Text(\n",
    "    description='EDCS-ID:'\n",
    ") \n",
    "display(EDCS)\n",
    "publication=widgets.Text(\n",
    "    description='Publication:'\n",
    ") \n",
    "display(publication)\n",
    "province=widgets.Text(\n",
    "    description='Publication:'\n",
    ") \n",
    "display(publication)\n",
    "print(\"Shift/Ctrl click to select multiple\")\n",
    "province=widgets.SelectMultiple(\n",
    "    options=Parseargs.provincelist,\n",
    "    rows=10,\n",
    "    description='Province:'\n",
    ") \n",
    "display(province)\n",
    "place=widgets.Text(\n",
    "    description='Place:'\n",
    ") \n",
    "display(place)\n",
    "term1=widgets.Text(\n",
    "    description='Text 1:'\n",
    ") \n",
    "display(term1)\n",
    "operator=widgets.ToggleButtons(\n",
    "    options=Parseargs.operatorlist,\n",
    "    value=\"and\",\n",
    "    \n",
    "    description='Operator'\n",
    ") \n",
    "display(operator)\n",
    "term2=widgets.Text(\n",
    "    description='Text 2:'\n",
    ") \n",
    "display(term2)\n",
    "dating_from=widgets.Text(\n",
    "    description='dating from:'\n",
    ") \n",
    "display(dating_from)\n",
    "dating_to=widgets.Text(\n",
    "    description='dating to:'\n",
    ") \n",
    "display(dating_to)\n",
    "\n",
    "inscription_genus=widgets.SelectMultiple(\n",
    "    options=Parseargs.genus_list,\n",
    "    rows=10,\n",
    "    description='inscription genus / personal status:'\n",
    ") \n",
    "display(inscription_genus)\n",
    "\n",
    "and_not_inscription_genus=widgets.SelectMultiple(\n",
    "    options=Parseargs.genus_list,\n",
    "    rows=10,\n",
    "    description='and not:'\n",
    ") \n",
    "display(and_not_inscription_genus)\n",
    "\n",
    "button = widgets.Button(description=\"ScraPYe!\")\n",
    "display(button)\n",
    "\n",
    "def on_button_clicked(b):\n",
    "    if and_not_inscription_genus.value:\n",
    "        args.and_not_inscription_genus=and_not_inscription_genus.value\n",
    "\n",
    "    if dating_from.value:\n",
    "        args.dating_from=dating_from.value\n",
    "\n",
    "    if dating_to.value:\n",
    "        args.dating_to=dating_to.value\n",
    "\n",
    "    if EDCS.value:\n",
    "        args.EDCS=EDCS.value\n",
    "\n",
    "    if inscription_genus.value:\n",
    "        args.inscription_genus=inscription_genus.value\n",
    "\n",
    "    if operator.value:\n",
    "        args.operator=operator.value\n",
    "\n",
    "    if place.value:\n",
    "        args.place=place.value\n",
    "\n",
    "    if province.value:\n",
    "        args.province=province.value\n",
    "\n",
    "    if province.value:\n",
    "        args.province=province.value\n",
    "\n",
    "    if publication.value:\n",
    "        args.publication=[publication.value]\n",
    "\n",
    "    if term1.value:\n",
    "        args.term1=term1.value\n",
    "\n",
    "    if term2.value:\n",
    "        args.term2=term2.value\n",
    "\n",
    "    \n",
    "    \n",
    "    print(\"Starting ScraPYe.\")\n",
    "    \n",
    "    filename=parse.scrape(args)\n",
    "    display(HTML(\"<h1>Job's done</h1><a href='/tree/output/' target='_blank'>File List</a>\"))\n",
    "\n",
    "button.on_click(on_button_clicked)"
   ]
  }
 ],
 "metadata": {
  "kernelspec": {
   "display_name": "Python 3",
   "language": "python",
   "name": "python3"
  },
  "language_info": {
   "codemirror_mode": {
    "name": "ipython",
    "version": 3
   },
   "file_extension": ".py",
   "mimetype": "text/x-python",
   "name": "python",
   "nbconvert_exporter": "python",
   "pygments_lexer": "ipython3",
   "version": "3.6.7"
  }
 },
 "nbformat": 4,
 "nbformat_minor": 2
}
