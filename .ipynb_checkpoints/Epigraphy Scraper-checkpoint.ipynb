{
 "cells": [
  {
   "cell_type": "code",
   "execution_count": 2,
   "metadata": {},
   "outputs": [
    {
     "data": {
      "application/vnd.jupyter.widget-view+json": {
       "model_id": "71c04c9dfa784ed7ae0b57b2f420fd0a",
       "version_major": 2,
       "version_minor": 0
      },
      "text/plain": [
       "Text(value='', description='EDCS-ID:')"
      ]
     },
     "metadata": {},
     "output_type": "display_data"
    },
    {
     "data": {
      "application/vnd.jupyter.widget-view+json": {
       "model_id": "409e525002e44d2d96e223ba05b47d48",
       "version_major": 2,
       "version_minor": 0
      },
      "text/plain": [
       "Text(value='', description='Publication:')"
      ]
     },
     "metadata": {},
     "output_type": "display_data"
    },
    {
     "data": {
      "application/vnd.jupyter.widget-view+json": {
       "model_id": "409e525002e44d2d96e223ba05b47d48",
       "version_major": 2,
       "version_minor": 0
      },
      "text/plain": [
       "Text(value='', description='Publication:')"
      ]
     },
     "metadata": {},
     "output_type": "display_data"
    },
    {
     "name": "stdout",
     "output_type": "stream",
     "text": [
      "Shift/Ctrl click to select multiple\n"
     ]
    },
    {
     "data": {
      "application/vnd.jupyter.widget-view+json": {
       "model_id": "5d4b32ea75e64826a42596f44495a0c2",
       "version_major": 2,
       "version_minor": 0
      },
      "text/plain": [
       "SelectMultiple(description='Province:', options=(None, 'Achaia', 'Baetica', 'Barbaricum', 'Belgica', 'Britanni…"
      ]
     },
     "metadata": {},
     "output_type": "display_data"
    },
    {
     "data": {
      "application/vnd.jupyter.widget-view+json": {
       "model_id": "59c3110ffe1f4766996f3168f061d566",
       "version_major": 2,
       "version_minor": 0
      },
      "text/plain": [
       "Text(value='', description='Place:')"
      ]
     },
     "metadata": {},
     "output_type": "display_data"
    },
    {
     "data": {
      "application/vnd.jupyter.widget-view+json": {
       "model_id": "3e19792d9fa94b07b9889cecdbb07b53",
       "version_major": 2,
       "version_minor": 0
      },
      "text/plain": [
       "Text(value='', description='Text 1:')"
      ]
     },
     "metadata": {},
     "output_type": "display_data"
    },
    {
     "data": {
      "application/vnd.jupyter.widget-view+json": {
       "model_id": "26da24e8a2da4a48a157e7827b718d4b",
       "version_major": 2,
       "version_minor": 0
      },
      "text/plain": [
       "ToggleButtons(description='Operator', options=('and', 'or', 'not'), value='and')"
      ]
     },
     "metadata": {},
     "output_type": "display_data"
    },
    {
     "data": {
      "application/vnd.jupyter.widget-view+json": {
       "model_id": "1cad3280c7844f7581974119e1e16131",
       "version_major": 2,
       "version_minor": 0
      },
      "text/plain": [
       "Text(value='', description='Text 2:')"
      ]
     },
     "metadata": {},
     "output_type": "display_data"
    },
    {
     "data": {
      "application/vnd.jupyter.widget-view+json": {
       "model_id": "755ed53c9110472f96d3a57bf3e12082",
       "version_major": 2,
       "version_minor": 0
      },
      "text/plain": [
       "Text(value='', description='dating from:')"
      ]
     },
     "metadata": {},
     "output_type": "display_data"
    },
    {
     "data": {
      "application/vnd.jupyter.widget-view+json": {
       "model_id": "7f686cf1a45e4a26a05605594a9bd594",
       "version_major": 2,
       "version_minor": 0
      },
      "text/plain": [
       "Text(value='', description='dating to:')"
      ]
     },
     "metadata": {},
     "output_type": "display_data"
    },
    {
     "data": {
      "application/vnd.jupyter.widget-view+json": {
       "model_id": "c590e0c44c6e49f2b7d46f606b8b7ccb",
       "version_major": 2,
       "version_minor": 0
      },
      "text/plain": [
       "SelectMultiple(description='inscription genus / personal status:', options=(None, 'et', 'vel', 'carmina', 'sig…"
      ]
     },
     "metadata": {},
     "output_type": "display_data"
    },
    {
     "data": {
      "application/vnd.jupyter.widget-view+json": {
       "model_id": "265edcaaf3cd4aafa071d087c04eae5f",
       "version_major": 2,
       "version_minor": 0
      },
      "text/plain": [
       "SelectMultiple(description='and not:', options=(None, 'et', 'vel', 'carmina', 'sigilla impressa', 'Augusti/Aug…"
      ]
     },
     "metadata": {},
     "output_type": "display_data"
    },
    {
     "data": {
      "application/vnd.jupyter.widget-view+json": {
       "model_id": "09d8f88539ea40cc999777f641df95c0",
       "version_major": 2,
       "version_minor": 0
      },
      "text/plain": [
       "Button(description='Scrape!', style=ButtonStyle())"
      ]
     },
     "metadata": {},
     "output_type": "display_data"
    },
    {
     "name": "stdout",
     "output_type": "stream",
     "text": [
      "Starting Scrape.\n",
      "Output filename: 2019-02-11-term1_Tumulus-#inscriptions.tsv\n",
      "71\n",
      "Done!\n"
     ]
    },
    {
     "data": {
      "text/html": [
       "<h1>Download link:</h1><a href='/tree/output/' target='_blank'>File List</a>"
      ],
      "text/plain": [
       "<IPython.core.display.HTML object>"
      ]
     },
     "metadata": {},
     "output_type": "display_data"
    },
    {
     "ename": "ValueError",
     "evalue": "Cannot display a file using FileLinks. Use FileLink to display 'output/2019-02-11-term1_Tumulus-71.tsv'.",
     "output_type": "error",
     "traceback": [
      "\u001b[0;31m---------------------------------------------------------------------------\u001b[0m",
      "\u001b[0;31mValueError\u001b[0m                                Traceback (most recent call last)",
      "\u001b[0;32m<ipython-input-2-c7521071f296>\u001b[0m in \u001b[0;36mon_button_clicked\u001b[0;34m(b)\u001b[0m\n\u001b[1;32m    140\u001b[0m     \u001b[0;31m#print(filename)\u001b[0m\u001b[0;34m\u001b[0m\u001b[0;34m\u001b[0m\u001b[0;34m\u001b[0m\u001b[0m\n\u001b[1;32m    141\u001b[0m     \u001b[0mdisplay\u001b[0m\u001b[0;34m(\u001b[0m\u001b[0mHTML\u001b[0m\u001b[0;34m(\u001b[0m\u001b[0;34m\"<h1>Download link:</h1><a href='/tree/output/' target='_blank'>File List</a>\"\u001b[0m\u001b[0;34m)\u001b[0m\u001b[0;34m)\u001b[0m\u001b[0;34m\u001b[0m\u001b[0;34m\u001b[0m\u001b[0m\n\u001b[0;32m--> 142\u001b[0;31m     \u001b[0mFileLinks\u001b[0m\u001b[0;34m(\u001b[0m\u001b[0mfilename\u001b[0m\u001b[0;34m)\u001b[0m\u001b[0;34m\u001b[0m\u001b[0;34m\u001b[0m\u001b[0m\n\u001b[0m\u001b[1;32m    143\u001b[0m \u001b[0mbutton\u001b[0m\u001b[0;34m.\u001b[0m\u001b[0mon_click\u001b[0m\u001b[0;34m(\u001b[0m\u001b[0mon_button_clicked\u001b[0m\u001b[0;34m)\u001b[0m\u001b[0;34m\u001b[0m\u001b[0;34m\u001b[0m\u001b[0m\n",
      "\u001b[0;32m~/.local/lib/python3.6/site-packages/IPython/lib/display.py\u001b[0m in \u001b[0;36m__init__\u001b[0;34m(self, path, url_prefix, included_suffixes, result_html_prefix, result_html_suffix, notebook_display_formatter, terminal_display_formatter, recursive)\u001b[0m\n\u001b[1;32m    425\u001b[0m         \u001b[0;32mif\u001b[0m \u001b[0misfile\u001b[0m\u001b[0;34m(\u001b[0m\u001b[0mpath\u001b[0m\u001b[0;34m)\u001b[0m\u001b[0;34m:\u001b[0m\u001b[0;34m\u001b[0m\u001b[0;34m\u001b[0m\u001b[0m\n\u001b[1;32m    426\u001b[0m             raise ValueError(\"Cannot display a file using FileLinks. \"\n\u001b[0;32m--> 427\u001b[0;31m               \"Use FileLink to display '%s'.\" % path)\n\u001b[0m\u001b[1;32m    428\u001b[0m         \u001b[0mself\u001b[0m\u001b[0;34m.\u001b[0m\u001b[0mincluded_suffixes\u001b[0m \u001b[0;34m=\u001b[0m \u001b[0mincluded_suffixes\u001b[0m\u001b[0;34m\u001b[0m\u001b[0;34m\u001b[0m\u001b[0m\n\u001b[1;32m    429\u001b[0m         \u001b[0;31m# remove trailing slashes for more consistent output formatting\u001b[0m\u001b[0;34m\u001b[0m\u001b[0;34m\u001b[0m\u001b[0;34m\u001b[0m\u001b[0m\n",
      "\u001b[0;31mValueError\u001b[0m: Cannot display a file using FileLinks. Use FileLink to display 'output/2019-02-11-term1_Tumulus-71.tsv'."
     ]
    }
   ],
   "source": [
    "# http://db.edcs.eu/epigr/epi.php?s_sprache=en\n",
    "\n",
    "#EDCS-32300443\n",
    "#tumulus?\n",
    "import parse \n",
    "from ipywidgets import interact, interactive, fixed, interact_manual\n",
    "import ipywidgets as widgets\n",
    "from IPython.core.display import display, HTML\n",
    "from IPython.display import FileLink, FileLinks\n",
    "\n",
    "class Parseargs:\n",
    "    \n",
    "    EDCS = None\n",
    "    publication = None\n",
    "    province = []\n",
    "    provincelist = [None, \"Achaia\", \"Baetica\", \"Barbaricum\", \"Belgica\", \"Britannia\", \"Bruttium et Lucania / Regio III\", \"Cilicia\", \"Corsica\", \"Creta et Cyrenaica\", \"Cyprus\", \"Dacia\", \"Dalmatia\", \"Etruria / Regio VII\", \"Galatia\", \"Gallia Narbonensis\", \"Germania inferior\", \"Germania superior\", \"Hispania citerior\", \"Italia\", \"Latium et Campania / Regio I\", \"Liguria / Regio IX\", \"Lugudunensis\", \"Lusitania\", \"Lycia et Pamphylia\", \"Macedonia\", \"Mauretania Caesariensis\", \"Mauretania Tingitana\", \"Mesopotamia\", \"Moesia inferior\", \"Moesia superior\", \"Noricum\", \"Numidia\", \"Palaestina\", \"Pannonia inferior\", \"Pannonia superior\", \"Picenum / Regio V\", \"Pontus et Bithynia Armenia\", \"Provincia incerta Asia\", \"Raetia\"\"Regnum Bospori Aegyptus\", \"Roma Aemilia / Regio VIII\", \"Samnium / Regio IV Africa proconsularis\", \"Sardinia Alpes Cottiae\", \"Sicilia Alpes Graiae\",\"Cappadocia\", \"Syria Alpes Maritimae\", \"Thracia Alpes Poeninae\", \"Transpadana / Regio XI Apulia et Calabria / Regio II\", \"Umbria / Regio VI Aquitani(c)a\", \"Venetia et Histria / Regio X Arabia\", ]\n",
    "    place = None\n",
    "    term1 = None\n",
    "    operator = \"and\"\n",
    "    operatorlist = [\"and\", \"or\", \"not\"]\n",
    "    term2 = None\n",
    "    dating_from = None\n",
    "    dating_to = None\n",
    "    inscription_genus = []\n",
    "    and_not_inscription_genus = []\n",
    "    debug = False\n",
    "    from_file = None\n",
    "    to_file = None\n",
    "    genus_list = [None, \"et\", \"vel\", \"carmina\", \"sigilla impressa\", \"Augusti/Augustae\", \"praenomen et nomen defixiones\", \"signacula medicorum\", \"liberti/libertae\", \"reges diplomata militaria\", \"termini\", \"milites\", \"sacerdotes christiani inscriptiones christianae\", \"tituli fabricationis\", \"mulieres\", \"sacerdotes pagani leges\", \"tituli honorarii\", \"nomen singulare\", \"servi/servae litterae erasae\", \"tituli operum\", \"officium/professio\", \"seviri Augustales litterae in litura\", \"tituli possessionis\", \"ordo decurionum\", \"tria nomina miliaria\", \"tituli sacri\", \"ordo equester\", \"viri senatus consulta\", \"tituli sepulcrales\", \"ordo senatorius\"]\n",
    "\n",
    "\n",
    "args = Parseargs()\n",
    "    \n",
    "EDCS=widgets.Text(\n",
    "    description='EDCS-ID:'\n",
    ") \n",
    "display(EDCS)\n",
    "publication=widgets.Text(\n",
    "    description='Publication:'\n",
    ") \n",
    "display(publication)\n",
    "province=widgets.Text(\n",
    "    description='Publication:'\n",
    ") \n",
    "display(publication)\n",
    "print(\"Shift/Ctrl click to select multiple\")\n",
    "province=widgets.SelectMultiple(\n",
    "    options=Parseargs.provincelist,\n",
    "    rows=10,\n",
    "    description='Province:'\n",
    ") \n",
    "display(province)\n",
    "place=widgets.Text(\n",
    "    description='Place:'\n",
    ") \n",
    "display(place)\n",
    "term1=widgets.Text(\n",
    "    description='Text 1:'\n",
    ") \n",
    "display(term1)\n",
    "operator=widgets.ToggleButtons(\n",
    "    options=Parseargs.operatorlist,\n",
    "    value=\"and\",\n",
    "    \n",
    "    description='Operator'\n",
    ") \n",
    "display(operator)\n",
    "term2=widgets.Text(\n",
    "    description='Text 2:'\n",
    ") \n",
    "display(term2)\n",
    "dating_from=widgets.Text(\n",
    "    description='dating from:'\n",
    ") \n",
    "display(dating_from)\n",
    "dating_to=widgets.Text(\n",
    "    description='dating to:'\n",
    ") \n",
    "display(dating_to)\n",
    "\n",
    "inscription_genus=widgets.SelectMultiple(\n",
    "    options=Parseargs.genus_list,\n",
    "    rows=10,\n",
    "    description='inscription genus / personal status:'\n",
    ") \n",
    "display(inscription_genus)\n",
    "\n",
    "and_not_inscription_genus=widgets.SelectMultiple(\n",
    "    options=Parseargs.genus_list,\n",
    "    rows=10,\n",
    "    description='and not:'\n",
    ") \n",
    "display(and_not_inscription_genus)\n",
    "\n",
    "button = widgets.Button(description=\"Scrape!\")\n",
    "display(button)\n",
    "\n",
    "def on_button_clicked(b):\n",
    "    if and_not_inscription_genus.value:\n",
    "        args.and_not_inscription_genus=and_not_inscription_genus.value\n",
    "\n",
    "    if dating_from.value:\n",
    "        args.dating_from=dating_from.value\n",
    "\n",
    "    if dating_to.value:\n",
    "        args.dating_to=dating_to.value\n",
    "\n",
    "    if EDCS.value:\n",
    "        args.EDCS=EDCS.value\n",
    "\n",
    "    if inscription_genus.value:\n",
    "        args.inscription_genus=inscription_genus.value\n",
    "\n",
    "    if operator.value:\n",
    "        args.operator=operator.value\n",
    "\n",
    "    if place.value:\n",
    "        args.place=place.value\n",
    "\n",
    "    if province.value:\n",
    "        args.province=province.value\n",
    "\n",
    "    if province.value:\n",
    "        args.province=province.value\n",
    "\n",
    "    if publication.value:\n",
    "        args.publication=[publication.value]\n",
    "\n",
    "    if term1.value:\n",
    "        args.term1=term1.value\n",
    "\n",
    "    if term2.value:\n",
    "        args.term2=term2.value\n",
    "\n",
    "    \n",
    "    \n",
    "    print(\"Starting Scrape.\")\n",
    "    \n",
    "    filename=parse.scrape(args)\n",
    "    #print(filename)\n",
    "    display(HTML(\"<h1>Download link:</h1><a href='/tree/output/' target='_blank'>File List</a>\"))\n",
    "    FileLinks(\".\")\n",
    "button.on_click(on_button_clicked)"
   ]
  },
  {
   "cell_type": "code",
   "execution_count": null,
   "metadata": {},
   "outputs": [],
   "source": []
  }
 ],
 "metadata": {
  "kernelspec": {
   "display_name": "Python 3",
   "language": "python",
   "name": "python3"
  },
  "language_info": {
   "codemirror_mode": {
    "name": "ipython",
    "version": 3
   },
   "file_extension": ".py",
   "mimetype": "text/x-python",
   "name": "python",
   "nbconvert_exporter": "python",
   "pygments_lexer": "ipython3",
   "version": "3.6.7"
  }
 },
 "nbformat": 4,
 "nbformat_minor": 2
}
