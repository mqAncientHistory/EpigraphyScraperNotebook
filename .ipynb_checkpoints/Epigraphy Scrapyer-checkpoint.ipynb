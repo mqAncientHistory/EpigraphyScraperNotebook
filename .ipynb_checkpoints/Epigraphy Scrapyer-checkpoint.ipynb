{
 "cells": [
  {
   "cell_type": "code",
   "execution_count": 41,
   "metadata": {},
   "outputs": [
    {
     "data": {
      "application/vnd.jupyter.widget-view+json": {
       "model_id": "6feecbcfa78741be93d8aa83d7c87313",
       "version_major": 2,
       "version_minor": 0
      },
      "text/plain": [
       "Text(value='', description='EDCS-ID:')"
      ]
     },
     "metadata": {},
     "output_type": "display_data"
    },
    {
     "data": {
      "application/vnd.jupyter.widget-view+json": {
       "model_id": "3811cb0c101d4baf93978b57feff8ef9",
       "version_major": 2,
       "version_minor": 0
      },
      "text/plain": [
       "Text(value='', description='Publication:')"
      ]
     },
     "metadata": {},
     "output_type": "display_data"
    },
    {
     "data": {
      "application/vnd.jupyter.widget-view+json": {
       "model_id": "3811cb0c101d4baf93978b57feff8ef9",
       "version_major": 2,
       "version_minor": 0
      },
      "text/plain": [
       "Text(value='', description='Publication:')"
      ]
     },
     "metadata": {},
     "output_type": "display_data"
    },
    {
     "name": "stdout",
     "output_type": "stream",
     "text": [
      "Shift/Ctrl click to select multiple\n"
     ]
    },
    {
     "data": {
      "application/vnd.jupyter.widget-view+json": {
       "model_id": "f3a3ccefbe624525bc8bbb3d299a8ac6",
       "version_major": 2,
       "version_minor": 0
      },
      "text/plain": [
       "SelectMultiple(description='Province:', options=(None, 'Achaia', 'Baetica', 'Barbaricum', 'Belgica', 'Britanni…"
      ]
     },
     "metadata": {},
     "output_type": "display_data"
    },
    {
     "data": {
      "application/vnd.jupyter.widget-view+json": {
       "model_id": "028da89163c841e4a58a27a475bd2449",
       "version_major": 2,
       "version_minor": 0
      },
      "text/plain": [
       "Text(value='', description='Place:')"
      ]
     },
     "metadata": {},
     "output_type": "display_data"
    },
    {
     "data": {
      "application/vnd.jupyter.widget-view+json": {
       "model_id": "af3fe67f9dd34a03a6784fe7fca66883",
       "version_major": 2,
       "version_minor": 0
      },
      "text/plain": [
       "Text(value='', description='Text 1:')"
      ]
     },
     "metadata": {},
     "output_type": "display_data"
    },
    {
     "data": {
      "application/vnd.jupyter.widget-view+json": {
       "model_id": "76b7ed599f6a45c38cd13569c23c1f88",
       "version_major": 2,
       "version_minor": 0
      },
      "text/plain": [
       "ToggleButtons(description='Operator', options=('and', 'or', 'not'), value='and')"
      ]
     },
     "metadata": {},
     "output_type": "display_data"
    },
    {
     "data": {
      "application/vnd.jupyter.widget-view+json": {
       "model_id": "f045f6f987164e47b1be14f253e6d553",
       "version_major": 2,
       "version_minor": 0
      },
      "text/plain": [
       "Text(value='', description='Text 2:')"
      ]
     },
     "metadata": {},
     "output_type": "display_data"
    },
    {
     "data": {
      "application/vnd.jupyter.widget-view+json": {
       "model_id": "bdcf3268b5fe484f864f645e82357adb",
       "version_major": 2,
       "version_minor": 0
      },
      "text/plain": [
       "Text(value='', description='dating from:')"
      ]
     },
     "metadata": {},
     "output_type": "display_data"
    },
    {
     "data": {
      "application/vnd.jupyter.widget-view+json": {
       "model_id": "9bc54797ec1041ad9947251a2d202013",
       "version_major": 2,
       "version_minor": 0
      },
      "text/plain": [
       "Text(value='', description='dating to:')"
      ]
     },
     "metadata": {},
     "output_type": "display_data"
    },
    {
     "data": {
      "application/vnd.jupyter.widget-view+json": {
       "model_id": "abebebc23eab412da017c5bcddba2e05",
       "version_major": 2,
       "version_minor": 0
      },
      "text/plain": [
       "SelectMultiple(description='inscription genus / personal status:', options=(None, 'et', 'vel', 'carmina', 'sig…"
      ]
     },
     "metadata": {},
     "output_type": "display_data"
    },
    {
     "data": {
      "application/vnd.jupyter.widget-view+json": {
       "model_id": "cdcde73b46f84c3ab69f5cc687c749ab",
       "version_major": 2,
       "version_minor": 0
      },
      "text/plain": [
       "SelectMultiple(description='and not:', options=(None, 'et', 'vel', 'carmina', 'sigilla impressa', 'Augusti/Aug…"
      ]
     },
     "metadata": {},
     "output_type": "display_data"
    },
    {
     "data": {
      "application/vnd.jupyter.widget-view+json": {
       "model_id": "445fc7a0a13c4b73a3a6fbdc4ef403e9",
       "version_major": 2,
       "version_minor": 0
      },
      "text/plain": [
       "Button(description='Scrape!', style=ButtonStyle())"
      ]
     },
     "metadata": {},
     "output_type": "display_data"
    },
    {
     "name": "stdout",
     "output_type": "stream",
     "text": [
      "Starting Scrape.\n"
     ]
    },
    {
     "ename": "AttributeError",
     "evalue": "'Parseargs' object has no attribute 'term1'",
     "output_type": "error",
     "traceback": [
      "\u001b[0;31m---------------------------------------------------------------------------\u001b[0m",
      "\u001b[0;31mAttributeError\u001b[0m                            Traceback (most recent call last)",
      "\u001b[0;32m<ipython-input-41-43fa1e392b31>\u001b[0m in \u001b[0;36mon_button_clicked\u001b[0;34m(b)\u001b[0m\n\u001b[1;32m    109\u001b[0m     \u001b[0mprint\u001b[0m\u001b[0;34m(\u001b[0m\u001b[0;34m\"Starting Scrape.\"\u001b[0m\u001b[0;34m)\u001b[0m\u001b[0;34m\u001b[0m\u001b[0;34m\u001b[0m\u001b[0m\n\u001b[1;32m    110\u001b[0m \u001b[0;34m\u001b[0m\u001b[0m\n\u001b[0;32m--> 111\u001b[0;31m     \u001b[0mparse\u001b[0m\u001b[0;34m.\u001b[0m\u001b[0mscrape\u001b[0m\u001b[0;34m(\u001b[0m\u001b[0margs\u001b[0m\u001b[0;34m)\u001b[0m\u001b[0;34m\u001b[0m\u001b[0;34m\u001b[0m\u001b[0m\n\u001b[0m\u001b[1;32m    112\u001b[0m \u001b[0;34m\u001b[0m\u001b[0m\n\u001b[1;32m    113\u001b[0m \u001b[0mbutton\u001b[0m\u001b[0;34m.\u001b[0m\u001b[0mon_click\u001b[0m\u001b[0;34m(\u001b[0m\u001b[0mon_button_clicked\u001b[0m\u001b[0;34m)\u001b[0m\u001b[0;34m\u001b[0m\u001b[0;34m\u001b[0m\u001b[0m\n",
      "\u001b[0;32m~/People/Ray/EpigraphyScraperNotebook/parse.py\u001b[0m in \u001b[0;36mscrape\u001b[0;34m(args)\u001b[0m\n\u001b[1;32m     26\u001b[0m \u001b[0;34m\u001b[0m\u001b[0m\n\u001b[1;32m     27\u001b[0m \u001b[0;32mdef\u001b[0m \u001b[0mscrape\u001b[0m\u001b[0;34m(\u001b[0m\u001b[0margs\u001b[0m\u001b[0;34m)\u001b[0m\u001b[0;34m:\u001b[0m\u001b[0;34m\u001b[0m\u001b[0;34m\u001b[0m\u001b[0m\n\u001b[0;32m---> 28\u001b[0;31m   \u001b[0msearchTerm\u001b[0m \u001b[0;34m=\u001b[0m \u001b[0margs\u001b[0m\u001b[0;34m.\u001b[0m\u001b[0mterm1\u001b[0m\u001b[0;34m\u001b[0m\u001b[0;34m\u001b[0m\u001b[0m\n\u001b[0m\u001b[1;32m     29\u001b[0m   \u001b[0;31m#print(\"Searching for:\")\u001b[0m\u001b[0;34m\u001b[0m\u001b[0;34m\u001b[0m\u001b[0;34m\u001b[0m\u001b[0m\n\u001b[1;32m     30\u001b[0m   \u001b[0;31m#pprint(args)\u001b[0m\u001b[0;34m\u001b[0m\u001b[0;34m\u001b[0m\u001b[0;34m\u001b[0m\u001b[0m\n",
      "\u001b[0;31mAttributeError\u001b[0m: 'Parseargs' object has no attribute 'term1'"
     ]
    }
   ],
   "source": [
    "#!/usr/bin/env python3\n",
    "# http://db.edcs.eu/epigr/epi.php?s_sprache=en\n",
    "\n",
    "#EDCS-32300443\n",
    "#tumulus?\n",
    "import parse \n",
    "from ipywidgets import interact, interactive, fixed, interact_manual\n",
    "import ipywidgets as widgets\n",
    "\n",
    "#   parser.add_argument('-e',   \"--EDCS\")\n",
    "#   parser.add_argument('-p',   \"--publication\", action='append', help=\"to include more than one publication, use -p more than once\")  \n",
    "#   parser.add_argument('-v',   \"--province\", action='append', help='To include more than one province, use -v more than once')  \n",
    "#   parser.add_argument('-l',   \"--place\")  \n",
    "#   parser.add_argument('-o',   \"--operator\", default='and', help=\"Default: and. Term Operator: and, or, not\", choices=[\"and\", \"or\", \"not\"])    \n",
    "#   parser.add_argument('-t',  \"--term2\")\n",
    "#   parser.add_argument('-df',  \"--dating-from\")\n",
    "#   parser.add_argument('-dt',  \"--dating-to\")\n",
    "#   parser.add_argument('-ig',  \"--inscription-genus\", action='append', help=\"To include more than one genus, -ig more than once.\")\n",
    "#   parser.add_argument('-!ig',  \"--and-not-inscription-genus\")\n",
    "#   parser.add_argument(\"term1\", help=\"Search term, no flag is required. \\n For phrases wrap them in \\\"\\\". For example, a one word search: platea. \\nFor example, to search for Caesar divi Nervae, you write: ./parse.py \\\"Caesar divi Nervae\\\" to have Caesar... in the first search term. To have sophisticated wildcard matching (For example Caesar (anything) Nervae), ask Brian, or look at http://db.edcs.eu/epigr/hinweise/hinweis-en.html\")\n",
    "\n",
    "class Parseargs:\n",
    "    \n",
    "    EDCS = None\n",
    "    publication = None\n",
    "    province = []\n",
    "    provincelist = [None, \"Achaia\", \"Baetica\", \"Barbaricum\", \"Belgica\", \"Britannia\", \"Bruttium et Lucania / Regio III\", \"Cilicia\", \"Corsica\", \"Creta et Cyrenaica\", \"Cyprus\", \"Dacia\", \"Dalmatia\", \"Etruria / Regio VII\", \"Galatia\", \"Gallia Narbonensis\", \"Germania inferior\", \"Germania superior\", \"Hispania citerior\", \"Italia\", \"Latium et Campania / Regio I\", \"Liguria / Regio IX\", \"Lugudunensis\", \"Lusitania\", \"Lycia et Pamphylia\", \"Macedonia\", \"Mauretania Caesariensis\", \"Mauretania Tingitana\", \"Mesopotamia\", \"Moesia inferior\", \"Moesia superior\", \"Noricum\", \"Numidia\", \"Palaestina\", \"Pannonia inferior\", \"Pannonia superior\", \"Picenum / Regio V\", \"Pontus et Bithynia Armenia\", \"Provincia incerta Asia\", \"Raetia\"\"Regnum Bospori Aegyptus\", \"Roma Aemilia / Regio VIII\", \"Samnium / Regio IV Africa proconsularis\", \"Sardinia Alpes Cottiae\", \"Sicilia Alpes Graiae\",\"Cappadocia\", \"Syria Alpes Maritimae\", \"Thracia Alpes Poeninae\", \"Transpadana / Regio XI Apulia et Calabria / Regio II\", \"Umbria / Regio VI Aquitani(c)a\", \"Venetia et Histria / Regio X Arabia\", ]\n",
    "    place = None\n",
    "    term1 = None\n",
    "    operator = \"and\"\n",
    "    operatorlist = [\"and\", \"or\", \"not\"]\n",
    "    term2 = None\n",
    "    dating_from = None\n",
    "    dating_to = None\n",
    "    inscription_genus = []\n",
    "    and_not_inscription_genus = []\n",
    "\n",
    "    \n",
    "    genus_list = [None, \"et\", \"vel\", \"carmina\", \"sigilla impressa\", \"Augusti/Augustae\", \"praenomen et nomen defixiones\", \"signacula medicorum\", \"liberti/libertae\", \"reges diplomata militaria\", \"termini\", \"milites\", \"sacerdotes christiani inscriptiones christianae\", \"tituli fabricationis\", \"mulieres\", \"sacerdotes pagani leges\", \"tituli honorarii\", \"nomen singulare\", \"servi/servae litterae erasae\", \"tituli operum\", \"officium/professio\", \"seviri Augustales litterae in litura\", \"tituli possessionis\", \"ordo decurionum\", \"tria nomina miliaria\", \"tituli sacri\", \"ordo equester\", \"viri senatus consulta\", \"tituli sepulcrales\", \"ordo senatorius\"]\n",
    "\n",
    "\n",
    "args = Parseargs()\n",
    "    \n",
    "args.EDCS=widgets.Text(\n",
    "    description='EDCS-ID:'\n",
    ") \n",
    "display(args.EDCS)\n",
    "args.publication=widgets.Text(\n",
    "    description='Publication:'\n",
    ") \n",
    "display(args.publication)\n",
    "args.province=widgets.Text(\n",
    "    description='Publication:'\n",
    ") \n",
    "display(args.publication)\n",
    "print(\"Shift/Ctrl click to select multiple\")\n",
    "args.province=widgets.SelectMultiple(\n",
    "    options=Parseargs.provincelist,\n",
    "    rows=10,\n",
    "    description='Province:'\n",
    ") \n",
    "display(args.province)\n",
    "args.place=widgets.Text(\n",
    "    description='Place:'\n",
    ") \n",
    "display(args.place)\n",
    "args.text1=widgets.Text(\n",
    "    description='Text 1:'\n",
    ") \n",
    "display(args.text1)\n",
    "args.operator=widgets.ToggleButtons(\n",
    "    options=Parseargs.operatorlist,\n",
    "    value=\"and\",\n",
    "    \n",
    "    description='Operator'\n",
    ") \n",
    "display(args.operator)\n",
    "args.text2=widgets.Text(\n",
    "    description='Text 2:'\n",
    ") \n",
    "display(args.text2)\n",
    "args.dating_from=widgets.Text(\n",
    "    description='dating from:'\n",
    ") \n",
    "display(args.dating_from)\n",
    "args.dating_to=widgets.Text(\n",
    "    description='dating to:'\n",
    ") \n",
    "display(args.dating_to)\n",
    "\n",
    "args.inscription_genus=widgets.SelectMultiple(\n",
    "    options=Parseargs.genus_list,\n",
    "    rows=10,\n",
    "    description='inscription genus / personal status:'\n",
    ") \n",
    "display(args.inscription_genus)\n",
    "\n",
    "args.and_not_inscription_genus=widgets.SelectMultiple(\n",
    "    options=Parseargs.genus_list,\n",
    "    rows=10,\n",
    "    description='and not:'\n",
    ") \n",
    "display(args.and_not_inscription_genus)\n",
    "\n",
    "button = widgets.Button(description=\"Scrape!\")\n",
    "display(button)\n",
    "\n",
    "def on_button_clicked(b):\n",
    "    print(\"Starting Scrape.\")\n",
    "    \n",
    "    parse.scrape(args)\n",
    "\n",
    "button.on_click(on_button_clicked)"
   ]
  },
  {
   "cell_type": "code",
   "execution_count": 8,
   "metadata": {},
   "outputs": [],
   "source": []
  },
  {
   "cell_type": "code",
   "execution_count": null,
   "metadata": {},
   "outputs": [],
   "source": []
  }
 ],
 "metadata": {
  "kernelspec": {
   "display_name": "Python 3",
   "language": "python",
   "name": "python3"
  },
  "language_info": {
   "codemirror_mode": {
    "name": "ipython",
    "version": 3
   },
   "file_extension": ".py",
   "mimetype": "text/x-python",
   "name": "python",
   "nbconvert_exporter": "python",
   "pygments_lexer": "ipython3",
   "version": "3.6.7"
  }
 },
 "nbformat": 4,
 "nbformat_minor": 2
}
